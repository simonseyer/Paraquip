{
 "cells": [
  {
   "cell_type": "code",
   "execution_count": 37,
   "id": "7fff2db4",
   "metadata": {},
   "outputs": [],
   "source": [
    "import json\n",
    "from slugify import slugify\n",
    "\n",
    "with open(\"gliderbase.json\") as file:\n",
    "    parsed_json = json.load(file)"
   ]
  },
  {
   "cell_type": "code",
   "execution_count": 10,
   "id": "edc23339",
   "metadata": {},
   "outputs": [
    {
     "data": {
      "text/plain": [
       "{'advance': {'name': 'Advance', 'slug': 'advance', 'altNames': None},\n",
       " 'aircross': {'name': 'Aircross',\n",
       "  'slug': 'aircross',\n",
       "  'altNames': ['Air Cross']},\n",
       " 'airdesign': {'name': 'AirDesign',\n",
       "  'slug': 'airdesign',\n",
       "  'altNames': ['AD', 'Air Design']},\n",
       " 'axis': {'name': 'Axis',\n",
       "  'slug': 'axis',\n",
       "  'altNames': ['Axis Para', 'axispara']},\n",
       " 'bgd': {'name': 'Bruce Goldsmith Design', 'slug': 'bgd', 'altNames': ['BGD']},\n",
       " 'dudek': {'name': 'Dudek', 'slug': 'dudek', 'altNames': None},\n",
       " 'flow': {'name': 'Flow', 'slug': 'flow', 'altNames': ['Flow Paragliders']},\n",
       " 'gin': {'name': 'Gin', 'slug': 'gin', 'altNames': ['Gin Gliders']},\n",
       " 'icaro': {'name': 'Icaro',\n",
       "  'slug': 'icaro',\n",
       "  'altNames': ['Icaro Paragliders']},\n",
       " 'mac-para': {'name': 'Mac Para', 'slug': 'mac-para', 'altNames': ['MacPara']},\n",
       " 'niviuk': {'name': 'Niviuk', 'slug': 'niviuk', 'altNames': None},\n",
       " 'nova': {'name': 'Nova', 'slug': 'nova', 'altNames': None},\n",
       " 'ozone': {'name': 'Ozone', 'slug': 'ozone', 'altNames': None},\n",
       " 'papillon-paragliders': {'name': 'Papillon Paragliders',\n",
       "  'slug': 'papillon-paragliders',\n",
       "  'altNames': None},\n",
       " 'phi': {'name': 'Phi', 'slug': 'phi', 'altNames': ['Phi Air', 'phi-air']},\n",
       " 'skywalk': {'name': 'Skywalk', 'slug': 'skywalk', 'altNames': None},\n",
       " 'sol': {'name': 'SOL', 'slug': 'sol', 'altNames': ['SOL Paragliders']},\n",
       " 'swing': {'name': 'Swing', 'slug': 'swing', 'altNames': None},\n",
       " 'triple-seven': {'name': 'Triple Seven',\n",
       "  'slug': 'triple-seven',\n",
       "  'altNames': ['777']},\n",
       " 'u-turn': {'name': 'U-Turn', 'slug': 'u-turn', 'altNames': None},\n",
       " 'up': {'name': 'Up', 'slug': 'up', 'altNames': ['Up Paragliders']}}"
      ]
     },
     "execution_count": 10,
     "metadata": {},
     "output_type": "execute_result"
    }
   ],
   "source": [
    "glider_list = parsed_json[\"result\"][\"data\"][\"allGlidersJson\"][\"edges\"]\n",
    "manufacturers = dict([(x[\"node\"][\"manufacturer\"][\"slug\"], x[\"node\"][\"manufacturer\"]) for x in glider_list])\n",
    "manufacturers"
   ]
  },
  {
   "cell_type": "code",
   "execution_count": 46,
   "id": "9edca50b",
   "metadata": {},
   "outputs": [],
   "source": [
    "def extract_glider(entry):\n",
    "    data = entry[\"node\"]\n",
    "    #     string_columns = [\"manufacturer\", \"name\", \"size\", \"certification\", \"display_name\", \"cell_count\"]\n",
    "    #     range_columns = [\"certified_weight_range\", \"recommended_weight_range\", \"extended_weight_range\"]\n",
    "    #     numeric_columns = [\"projected_span\", \"projected_area\", \"projected_aspect_ratio\", \"flat_span\", \"flat_area\", \"flat_aspect_ratio\", \"chord\", \"weight\"]\n",
    "    generic_data = {\n",
    "        \"manufacturer\": data[\"manufacturer\"][\"slug\"],\n",
    "        \"name\": data[\"slug\"],\n",
    "        \"display_name\": data[\"name\"],\n",
    "    }\n",
    "    \n",
    "    for size in data[\"sizes\"]:\n",
    "        attributes = dict([(x[\"name\"] + str(x[\"additionalInfo\"] or \"\"), x) for x in size[\"attributes\"]])\n",
    "        glider = generic_data.copy()\n",
    "        glider[\"size\"] = size[\"name\"]\n",
    "        if \"Certification\" in attributes:\n",
    "            glider[\"certification\"] = attributes[\"Certification\"][\"valueString\"]\n",
    "        if \"Cells\" in attributes:\n",
    "            glider[\"cell_count\"] = attributes[\"Cells\"][\"valueString\"] or f\"{attributes['Cells']['valueNumber']}\"\n",
    "        if \"Projected span\" in attributes:\n",
    "            glider[\"projected_span\"] = attributes[\"Projected span\"][\"valueNumber\"]\n",
    "        if \"Projected area\" in attributes:\n",
    "            glider[\"projected_area\"] = attributes[\"Projected area\"][\"valueNumber\"]\n",
    "        if \"Projected aspect ratio\" in attributes:\n",
    "            glider[\"projected_aspect_ratio\"] = attributes[\"Projected aspect ratio\"][\"valueNumber\"]\n",
    "        if \"Flat span\" in attributes:\n",
    "            glider[\"flat_span\"] = attributes[\"Flat span\"][\"valueNumber\"]\n",
    "        if \"Flat area\" in attributes:\n",
    "            glider[\"flat_area\"] = attributes[\"Flat area\"][\"valueNumber\"]\n",
    "        if \"Flat aspect ratio\" in attributes:\n",
    "            glider[\"flat_aspect_ratio\"] = attributes[\"Flat aspect ratio\"][\"valueNumber\"]\n",
    "        if \"Chord\" in attributes:\n",
    "            glider[\"chord\"] = attributes[\"Chord\"][\"valueNumber\"]\n",
    "        if \"Glider weight\" in attributes:\n",
    "            glider[\"weight\"] = attributes[\"Glider weight\"][\"valueNumber\"]\n",
    "        if \"Takeoff weight\" in attributes and attributes[\"Takeoff weight\"][\"valueRange\"]:\n",
    "            glider[\"certified_weight_range\"] = (attributes[\"Takeoff weight\"][\"valueRange\"][\"from\"], attributes[\"Takeoff weight\"][\"valueRange\"][\"to\"])\n",
    "        if \"Takeoff weightrecommended\" in attributes and attributes[\"Takeoff weightrecommended\"][\"valueRange\"]:\n",
    "            glider[\"recommended_weight_range\"] = (attributes[\"Takeoff weightrecommended\"][\"valueRange\"][\"from\"], attributes[\"Takeoff weightrecommended\"][\"valueRange\"][\"to\"])\n",
    "        if \"Takeoff weightextended\" in attributes and attributes[\"Takeoff weightextended\"][\"valueRange\"]:\n",
    "            glider[\"extended_weight_range\"] = (attributes[\"Takeoff weightextended\"][\"valueRange\"][\"from\"], attributes[\"Takeoff weightextended\"][\"valueRange\"][\"to\"])\n",
    "        \n",
    "        yield glider"
   ]
  },
  {
   "cell_type": "code",
   "execution_count": 48,
   "id": "80569d0b",
   "metadata": {},
   "outputs": [
    {
     "data": {
      "text/plain": [
       "1320"
      ]
     },
     "execution_count": 48,
     "metadata": {},
     "output_type": "execute_result"
    }
   ],
   "source": [
    "gliders = [extract_glider(data) for data in glider_list]\n",
    "flat_gliders = [item for sublist in gliders for item in sublist]\n",
    "len(flat_gliders)"
   ]
  }
 ],
 "metadata": {
  "kernelspec": {
   "display_name": "Python 3 (ipykernel)",
   "language": "python",
   "name": "python3"
  },
  "language_info": {
   "codemirror_mode": {
    "name": "ipython",
    "version": 3
   },
   "file_extension": ".py",
   "mimetype": "text/x-python",
   "name": "python",
   "nbconvert_exporter": "python",
   "pygments_lexer": "ipython3",
   "version": "3.9.6"
  }
 },
 "nbformat": 4,
 "nbformat_minor": 5
}
